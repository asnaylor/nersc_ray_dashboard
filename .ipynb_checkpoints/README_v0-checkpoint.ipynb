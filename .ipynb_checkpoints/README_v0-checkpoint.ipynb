{
 "cells": [
  {
   "cell_type": "markdown",
   "id": "90e9b575-1d2e-4740-89ae-c6fd957613d4",
   "metadata": {},
   "source": [
    "# Ray cluster dashboard at NERSC \n",
    "\n",
    "-----"
   ]
  },
  {
   "cell_type": "markdown",
   "id": "a142addb-8b69-468b-a9e7-67b8981875bd",
   "metadata": {},
   "source": [
    "### Load libraries\n",
    "\n",
    "\n",
    "Put the grafana and prometheus stuff in a utility library and move to ray init in browser. But add snipettes in markdown.\n",
    "That way the notebook has a very clean look and isn't overly complicated."
   ]
  },
  {
   "cell_type": "code",
   "execution_count": 1,
   "id": "64d06911-42a3-4bd4-bd5a-6d25fa307961",
   "metadata": {},
   "outputs": [],
   "source": [
    "from subprocess import Popen, PIPE\n",
    "import os\n",
    "from shlex import split\n",
    "import sys"
   ]
  },
  {
   "cell_type": "code",
   "execution_count": 2,
   "id": "b260e66e-fcec-4291-b127-3df13d076f6e",
   "metadata": {},
   "outputs": [
    {
     "name": "stdout",
     "output_type": "stream",
     "text": [
      "Defaulting to user installation because normal site-packages is not writeable\n",
      "Requirement already satisfied: ray[default]==2.3.0 in /global/u2/a/asnaylor/.local/perlmutter/3.9-anaconda-2021.11/lib/python3.9/site-packages (2.3.0)\n",
      "Requirement already satisfied: jsonschema in /global/common/software/nersc/pm-2022q3/sw/python/3.9-anaconda-2021.11/lib/python3.9/site-packages (from ray[default]==2.3.0) (4.4.0)\n",
      "Requirement already satisfied: grpcio>=1.32.0 in /global/u2/a/asnaylor/.local/perlmutter/3.9-anaconda-2021.11/lib/python3.9/site-packages (from ray[default]==2.3.0) (1.51.1)\n",
      "Requirement already satisfied: click>=7.0 in /global/common/software/nersc/pm-2022q3/sw/python/3.9-anaconda-2021.11/lib/python3.9/site-packages (from ray[default]==2.3.0) (8.0.4)\n",
      "Requirement already satisfied: numpy>=1.19.3 in /global/common/software/nersc/pm-2022q3/sw/python/3.9-anaconda-2021.11/lib/python3.9/site-packages (from ray[default]==2.3.0) (1.21.5)\n",
      "Requirement already satisfied: frozenlist in /global/u2/a/asnaylor/.local/perlmutter/3.9-anaconda-2021.11/lib/python3.9/site-packages (from ray[default]==2.3.0) (1.3.3)\n",
      "Requirement already satisfied: pyyaml in /global/common/software/nersc/pm-2022q3/sw/python/3.9-anaconda-2021.11/lib/python3.9/site-packages (from ray[default]==2.3.0) (6.0)\n",
      "Requirement already satisfied: aiosignal in /global/u2/a/asnaylor/.local/perlmutter/3.9-anaconda-2021.11/lib/python3.9/site-packages (from ray[default]==2.3.0) (1.3.1)\n",
      "Requirement already satisfied: attrs in /global/common/software/nersc/pm-2022q3/sw/python/3.9-anaconda-2021.11/lib/python3.9/site-packages (from ray[default]==2.3.0) (21.4.0)\n",
      "Requirement already satisfied: virtualenv>=20.0.24 in /global/u2/a/asnaylor/.local/perlmutter/3.9-anaconda-2021.11/lib/python3.9/site-packages (from ray[default]==2.3.0) (20.17.1)\n",
      "Requirement already satisfied: msgpack<2.0.0,>=1.0.0 in /global/common/software/nersc/pm-2022q3/sw/python/3.9-anaconda-2021.11/lib/python3.9/site-packages (from ray[default]==2.3.0) (1.0.3)\n",
      "Requirement already satisfied: requests in /global/common/software/nersc/pm-2022q3/sw/python/3.9-anaconda-2021.11/lib/python3.9/site-packages (from ray[default]==2.3.0) (2.28.1)\n",
      "Requirement already satisfied: filelock in /global/common/software/nersc/pm-2022q3/sw/python/3.9-anaconda-2021.11/lib/python3.9/site-packages (from ray[default]==2.3.0) (3.6.0)\n",
      "Requirement already satisfied: protobuf!=3.19.5,>=3.15.3 in /global/u2/a/asnaylor/.local/perlmutter/3.9-anaconda-2021.11/lib/python3.9/site-packages (from ray[default]==2.3.0) (4.21.12)\n",
      "Requirement already satisfied: prometheus-client>=0.7.1 in /global/u2/a/asnaylor/.local/perlmutter/3.9-anaconda-2021.11/lib/python3.9/site-packages (from ray[default]==2.3.0) (0.13.1)\n",
      "Requirement already satisfied: aiohttp>=3.7 in /global/u2/a/asnaylor/.local/perlmutter/3.9-anaconda-2021.11/lib/python3.9/site-packages (from ray[default]==2.3.0) (3.8.3)\n",
      "Requirement already satisfied: smart-open in /global/u2/a/asnaylor/.local/perlmutter/3.9-anaconda-2021.11/lib/python3.9/site-packages (from ray[default]==2.3.0) (6.3.0)\n",
      "Requirement already satisfied: aiohttp-cors in /global/u2/a/asnaylor/.local/perlmutter/3.9-anaconda-2021.11/lib/python3.9/site-packages (from ray[default]==2.3.0) (0.7.0)\n",
      "Requirement already satisfied: opencensus in /global/u2/a/asnaylor/.local/perlmutter/3.9-anaconda-2021.11/lib/python3.9/site-packages (from ray[default]==2.3.0) (0.11.0)\n",
      "Requirement already satisfied: pydantic in /global/u2/a/asnaylor/.local/perlmutter/3.9-anaconda-2021.11/lib/python3.9/site-packages (from ray[default]==2.3.0) (1.10.4)\n",
      "Requirement already satisfied: colorful in /global/u2/a/asnaylor/.local/perlmutter/3.9-anaconda-2021.11/lib/python3.9/site-packages (from ray[default]==2.3.0) (0.5.5)\n",
      "Requirement already satisfied: py-spy>=0.2.0 in /global/u2/a/asnaylor/.local/perlmutter/3.9-anaconda-2021.11/lib/python3.9/site-packages (from ray[default]==2.3.0) (0.3.14)\n",
      "Requirement already satisfied: gpustat>=1.0.0 in /global/u2/a/asnaylor/.local/perlmutter/3.9-anaconda-2021.11/lib/python3.9/site-packages (from ray[default]==2.3.0) (1.0.0)\n",
      "Requirement already satisfied: yarl<2.0,>=1.0 in /global/u2/a/asnaylor/.local/perlmutter/3.9-anaconda-2021.11/lib/python3.9/site-packages (from aiohttp>=3.7->ray[default]==2.3.0) (1.8.2)\n",
      "Requirement already satisfied: charset-normalizer<3.0,>=2.0 in /global/common/software/nersc/pm-2022q3/sw/python/3.9-anaconda-2021.11/lib/python3.9/site-packages (from aiohttp>=3.7->ray[default]==2.3.0) (2.0.4)\n",
      "Requirement already satisfied: multidict<7.0,>=4.5 in /global/u2/a/asnaylor/.local/perlmutter/3.9-anaconda-2021.11/lib/python3.9/site-packages (from aiohttp>=3.7->ray[default]==2.3.0) (6.0.4)\n",
      "Requirement already satisfied: async-timeout<5.0,>=4.0.0a3 in /global/u2/a/asnaylor/.local/perlmutter/3.9-anaconda-2021.11/lib/python3.9/site-packages (from aiohttp>=3.7->ray[default]==2.3.0) (4.0.2)\n",
      "Requirement already satisfied: psutil>=5.6.0 in /global/common/software/nersc/pm-2022q3/sw/python/3.9-anaconda-2021.11/lib/python3.9/site-packages (from gpustat>=1.0.0->ray[default]==2.3.0) (5.9.0)\n",
      "Requirement already satisfied: nvidia-ml-py<=11.495.46,>=11.450.129 in /global/u2/a/asnaylor/.local/perlmutter/3.9-anaconda-2021.11/lib/python3.9/site-packages (from gpustat>=1.0.0->ray[default]==2.3.0) (11.495.46)\n",
      "Requirement already satisfied: six>=1.7 in /global/common/software/nersc/pm-2022q3/sw/python/3.9-anaconda-2021.11/lib/python3.9/site-packages (from gpustat>=1.0.0->ray[default]==2.3.0) (1.16.0)\n",
      "Requirement already satisfied: blessed>=1.17.1 in /global/u2/a/asnaylor/.local/perlmutter/3.9-anaconda-2021.11/lib/python3.9/site-packages (from gpustat>=1.0.0->ray[default]==2.3.0) (1.19.1)\n",
      "Requirement already satisfied: platformdirs<3,>=2.4 in /global/u2/a/asnaylor/.local/perlmutter/3.9-anaconda-2021.11/lib/python3.9/site-packages (from virtualenv>=20.0.24->ray[default]==2.3.0) (2.6.2)\n",
      "Requirement already satisfied: distlib<1,>=0.3.6 in /global/u2/a/asnaylor/.local/perlmutter/3.9-anaconda-2021.11/lib/python3.9/site-packages (from virtualenv>=20.0.24->ray[default]==2.3.0) (0.3.6)\n",
      "Requirement already satisfied: pyrsistent!=0.17.0,!=0.17.1,!=0.17.2,>=0.14.0 in /global/common/software/nersc/pm-2022q3/sw/python/3.9-anaconda-2021.11/lib/python3.9/site-packages (from jsonschema->ray[default]==2.3.0) (0.18.0)\n",
      "Requirement already satisfied: opencensus-context>=0.1.3 in /global/u2/a/asnaylor/.local/perlmutter/3.9-anaconda-2021.11/lib/python3.9/site-packages (from opencensus->ray[default]==2.3.0) (0.1.3)\n",
      "Requirement already satisfied: google-api-core<3.0.0,>=1.0.0 in /global/u2/a/asnaylor/.local/perlmutter/3.9-anaconda-2021.11/lib/python3.9/site-packages (from opencensus->ray[default]==2.3.0) (2.11.0)\n",
      "Requirement already satisfied: typing-extensions>=4.2.0 in /global/common/software/nersc/pm-2022q3/sw/python/3.9-anaconda-2021.11/lib/python3.9/site-packages (from pydantic->ray[default]==2.3.0) (4.3.0)\n",
      "Requirement already satisfied: urllib3<1.27,>=1.21.1 in /global/common/software/nersc/pm-2022q3/sw/python/3.9-anaconda-2021.11/lib/python3.9/site-packages (from requests->ray[default]==2.3.0) (1.26.11)\n",
      "Requirement already satisfied: idna<4,>=2.5 in /global/common/software/nersc/pm-2022q3/sw/python/3.9-anaconda-2021.11/lib/python3.9/site-packages (from requests->ray[default]==2.3.0) (3.3)\n",
      "Requirement already satisfied: certifi>=2017.4.17 in /global/common/software/nersc/pm-2022q3/sw/python/3.9-anaconda-2021.11/lib/python3.9/site-packages (from requests->ray[default]==2.3.0) (2022.6.15)\n",
      "Requirement already satisfied: wcwidth>=0.1.4 in /global/common/software/nersc/pm-2022q3/sw/python/3.9-anaconda-2021.11/lib/python3.9/site-packages (from blessed>=1.17.1->gpustat>=1.0.0->ray[default]==2.3.0) (0.2.5)\n",
      "Requirement already satisfied: googleapis-common-protos<2.0dev,>=1.56.2 in /global/u2/a/asnaylor/.local/perlmutter/3.9-anaconda-2021.11/lib/python3.9/site-packages (from google-api-core<3.0.0,>=1.0.0->opencensus->ray[default]==2.3.0) (1.58.0)\n",
      "Requirement already satisfied: google-auth<3.0dev,>=2.14.1 in /global/u2/a/asnaylor/.local/perlmutter/3.9-anaconda-2021.11/lib/python3.9/site-packages (from google-api-core<3.0.0,>=1.0.0->opencensus->ray[default]==2.3.0) (2.16.0)\n",
      "Requirement already satisfied: pyasn1-modules>=0.2.1 in /global/u2/a/asnaylor/.local/perlmutter/3.9-anaconda-2021.11/lib/python3.9/site-packages (from google-auth<3.0dev,>=2.14.1->google-api-core<3.0.0,>=1.0.0->opencensus->ray[default]==2.3.0) (0.2.8)\n",
      "Requirement already satisfied: rsa<5,>=3.1.4 in /global/u2/a/asnaylor/.local/perlmutter/3.9-anaconda-2021.11/lib/python3.9/site-packages (from google-auth<3.0dev,>=2.14.1->google-api-core<3.0.0,>=1.0.0->opencensus->ray[default]==2.3.0) (4.9)\n",
      "Requirement already satisfied: cachetools<6.0,>=2.0.0 in /global/u2/a/asnaylor/.local/perlmutter/3.9-anaconda-2021.11/lib/python3.9/site-packages (from google-auth<3.0dev,>=2.14.1->google-api-core<3.0.0,>=1.0.0->opencensus->ray[default]==2.3.0) (5.2.1)\n",
      "Requirement already satisfied: pyasn1<0.5.0,>=0.4.6 in /global/u2/a/asnaylor/.local/perlmutter/3.9-anaconda-2021.11/lib/python3.9/site-packages (from pyasn1-modules>=0.2.1->google-auth<3.0dev,>=2.14.1->google-api-core<3.0.0,>=1.0.0->opencensus->ray[default]==2.3.0) (0.4.8)\n"
     ]
    }
   ],
   "source": [
    "#Metrics features are new in Ray 2.3.0\n",
    "!{sys.executable} -m pip install \"ray[default]==2.3.0\""
   ]
  },
  {
   "cell_type": "markdown",
   "id": "a02df901-e1dc-4bf3-b0af-f0c23c15b3b1",
   "metadata": {},
   "source": [
    "### Start ray head-node"
   ]
  },
  {
   "cell_type": "code",
   "execution_count": 3,
   "id": "9df6832d-29a9-494b-bdb7-5802289a6592",
   "metadata": {},
   "outputs": [],
   "source": [
    "user_jupyter = os.getenv('JUPYTERHUB_SERVICE_PREFIX')\n",
    "jupyterhub = 'https://jupyter.nersc.gov'\n",
    "grafana_port = '3000'\n",
    "grafana_root_url = f\"{jupyterhub}{user_jupyter}proxy/{grafana_port}\""
   ]
  },
  {
   "cell_type": "code",
   "execution_count": 4,
   "id": "a3d9fdcf-fc92-4ce2-87aa-76f79cdec0c1",
   "metadata": {},
   "outputs": [
    {
     "name": "stdout",
     "output_type": "stream",
     "text": [
      "2023-03-12 20:04:42,799\tINFO usage_lib.py:435 -- Usage stats collection is disabled.\n",
      "2023-03-12 20:04:42,799\tINFO scripts.py:710 -- \u001b[37mLocal node IP\u001b[39m: \u001b[1m128.55.64.30\u001b[22m\n",
      "2023-03-12 20:04:44,990\tSUCC scripts.py:747 -- \u001b[32m--------------------\u001b[39m\n",
      "2023-03-12 20:04:44,990\tSUCC scripts.py:748 -- \u001b[32mRay runtime started.\u001b[39m\n",
      "2023-03-12 20:04:44,990\tSUCC scripts.py:749 -- \u001b[32m--------------------\u001b[39m\n",
      "2023-03-12 20:04:44,990\tINFO scripts.py:751 -- \u001b[36mNext steps\u001b[39m\n",
      "2023-03-12 20:04:44,990\tINFO scripts.py:752 -- To connect to this Ray runtime from another node, run\n",
      "2023-03-12 20:04:44,990\tINFO scripts.py:755 -- \u001b[1m  ray start --address='128.55.64.30:6379'\u001b[22m\n",
      "2023-03-12 20:04:44,990\tINFO scripts.py:771 -- Alternatively, use the following Python code:\n",
      "2023-03-12 20:04:44,990\tINFO scripts.py:773 -- \u001b[35mimport\u001b[39m\u001b[26m ray\n",
      "2023-03-12 20:04:44,990\tINFO scripts.py:777 -- ray\u001b[35m.\u001b[39m\u001b[26minit(address\u001b[35m=\u001b[39m\u001b[26m\u001b[33m'auto'\u001b[39m\u001b[26m)\n",
      "2023-03-12 20:04:44,991\tINFO scripts.py:790 -- To see the status of the cluster, use\n",
      "2023-03-12 20:04:44,991\tINFO scripts.py:791 --   \u001b[1mray status\u001b[22m\u001b[26m\n",
      "2023-03-12 20:04:44,991\tINFO scripts.py:794 -- To monitor and debug Ray, view the dashboard at \n",
      "2023-03-12 20:04:44,991\tINFO scripts.py:795 --   \u001b[1m127.0.0.1:8265\u001b[22m\u001b[26m\n",
      "2023-03-12 20:04:44,991\tINFO scripts.py:801 -- \u001b[4mIf connection fails, check your firewall settings and network configuration.\u001b[24m\n",
      "2023-03-12 20:04:44,991\tINFO scripts.py:809 -- To terminate the Ray runtime, run\n",
      "2023-03-12 20:04:44,991\tINFO scripts.py:810 -- \u001b[1m  ray stop\u001b[22m\n",
      "2023-03-12 20:04:44,991\tINFO scripts.py:888 -- \u001b[36m\u001b[1m--block\u001b[22m\u001b[39m\n",
      "2023-03-12 20:04:44,991\tINFO scripts.py:889 -- This command will now block forever until terminated by a signal.\n",
      "2023-03-12 20:04:44,991\tINFO scripts.py:892 -- Running subprocesses are monitored and a message will be printed if any of them terminate unexpectedly. Subprocesses exit with SIGTERM will be treated as graceful, thus NOT reported.\n"
     ]
    }
   ],
   "source": [
    "os.environ[\"RAY_GRAFANA_IFRAME_HOST\"] = grafana_root_url\n",
    "ray_head_process = Popen(\n",
    "    split(\"ray start --head --block\")\n",
    ")"
   ]
  },
  {
   "cell_type": "markdown",
   "id": "64249b70-bb18-4bae-b18d-ef27c39787f3",
   "metadata": {},
   "source": [
    "If the notebook is not running on the same machine as the ray head node you can ssh the dashboard port and follow the same commands:\n",
    "\n",
    "\n",
    "```python\n",
    "port = '8265'\n",
    "compute_node = 'nid02010'\n",
    "ray_dashboard_port_foward = Popen(\n",
    "    split(f'ssh -N -L localhost:{port}:localhost:{port} {compute_node} -o LOGLEVEL=ERROR')\n",
    ")\n",
    "```"
   ]
  },
  {
   "cell_type": "markdown",
   "id": "73acc532-64d5-4acf-b239-2f54b447a7f8",
   "metadata": {},
   "source": [
    "### Start Prometheus"
   ]
  },
  {
   "cell_type": "code",
   "execution_count": 5,
   "id": "c9825dde-af8e-48b7-a227-0279327063b5",
   "metadata": {},
   "outputs": [
    {
     "name": "stderr",
     "output_type": "stream",
     "text": [
      "ts=2023-03-13T03:05:00.766Z caller=main.go:512 level=info msg=\"No time or size retention was set so using the default time retention\" duration=15d\n",
      "ts=2023-03-13T03:05:00.766Z caller=main.go:556 level=info msg=\"Starting Prometheus Server\" mode=server version=\"(version=2.42.0, branch=HEAD, revision=225c61122d88b01d1f0eaaee0e05b6f3e0567ac0)\"\n",
      "ts=2023-03-13T03:05:00.766Z caller=main.go:561 level=info build_context=\"(go=go1.19.5, platform=linux/amd64, user=root@c67d48967507, date=20230201-07:53:32)\"\n",
      "ts=2023-03-13T03:05:00.766Z caller=main.go:562 level=info host_details=\"(Linux 5.14.21-150400.24.46_12.0.63-cray_shasta_c #1 SMP Fri Mar 3 22:39:37 UTC 2023 (6e164f9) x86_64 login21 )\"\n",
      "ts=2023-03-13T03:05:00.766Z caller=main.go:563 level=info fd_limits=\"(soft=500000, hard=500000)\"\n",
      "ts=2023-03-13T03:05:00.766Z caller=main.go:564 level=info vm_limits=\"(soft=unlimited, hard=unlimited)\"\n",
      "ts=2023-03-13T03:05:00.770Z caller=web.go:561 level=info component=web msg=\"Start listening for connections\" address=0.0.0.0:9090\n",
      "ts=2023-03-13T03:05:00.771Z caller=main.go:993 level=info msg=\"Starting TSDB ...\"\n",
      "ts=2023-03-13T03:05:00.773Z caller=repair.go:56 level=info component=tsdb msg=\"Found healthy block\" mint=1678653454572 maxt=1678658400000 ulid=01GVC2ZH3HR2ZD1V8CDTHYT5RP\n",
      "ts=2023-03-13T03:05:00.773Z caller=repair.go:56 level=info component=tsdb msg=\"Found healthy block\" mint=1678658974573 maxt=1678665600000 ulid=01GVC880EWVEBP95RBF1SXD7CB\n",
      "ts=2023-03-13T03:05:00.773Z caller=repair.go:56 level=info component=tsdb msg=\"Found healthy block\" mint=1678495272962 maxt=1678507200000 ulid=01GVC880H9YDH3FZJ86PN45N1V\n",
      "ts=2023-03-13T03:05:00.774Z caller=tls_config.go:232 level=info component=web msg=\"Listening on\" address=[::]:9090\n",
      "ts=2023-03-13T03:05:00.774Z caller=tls_config.go:235 level=info component=web msg=\"TLS is disabled.\" http2=false address=[::]:9090\n",
      "ts=2023-03-13T03:05:00.774Z caller=repair.go:56 level=info component=tsdb msg=\"Found healthy block\" mint=1678665600000 maxt=1678672800000 ulid=01GVCEJ99VNNSW6JBKP9KJ18FW\n",
      "ts=2023-03-13T03:05:00.789Z caller=head.go:564 level=info component=tsdb msg=\"Replaying on-disk memory mappable chunks if any\"\n",
      "ts=2023-03-13T03:05:00.790Z caller=head.go:608 level=info component=tsdb msg=\"On-disk memory mappable chunks replay completed\" duration=909.968µs\n",
      "ts=2023-03-13T03:05:00.790Z caller=head.go:614 level=info component=tsdb msg=\"Replaying WAL, this may take a while\"\n",
      "ts=2023-03-13T03:05:00.823Z caller=head.go:650 level=info component=tsdb msg=\"WAL checkpoint loaded\"\n",
      "ts=2023-03-13T03:05:00.916Z caller=head.go:685 level=info component=tsdb msg=\"WAL segment loaded\" segment=17 maxSegment=20\n",
      "ts=2023-03-13T03:05:00.927Z caller=head.go:685 level=info component=tsdb msg=\"WAL segment loaded\" segment=18 maxSegment=20\n",
      "ts=2023-03-13T03:05:00.933Z caller=head.go:685 level=info component=tsdb msg=\"WAL segment loaded\" segment=19 maxSegment=20\n",
      "ts=2023-03-13T03:05:00.940Z caller=head.go:685 level=info component=tsdb msg=\"WAL segment loaded\" segment=20 maxSegment=20\n",
      "ts=2023-03-13T03:05:00.940Z caller=head.go:722 level=info component=tsdb msg=\"WAL replay completed\" checkpoint_replay_duration=33.85949ms wal_replay_duration=116.397714ms wbl_replay_duration=430ns total_replay_duration=151.194192ms\n",
      "ts=2023-03-13T03:05:00.952Z caller=main.go:1014 level=info fs_type=bd00bd0\n",
      "ts=2023-03-13T03:05:00.952Z caller=main.go:1017 level=info msg=\"TSDB started\"\n",
      "ts=2023-03-13T03:05:00.952Z caller=main.go:1197 level=info msg=\"Loading configuration file\" filename=/tmp/ray/session_latest/metrics/prometheus/prometheus.yml\n",
      "ts=2023-03-13T03:05:00.954Z caller=main.go:1234 level=info msg=\"Completed loading of configuration file\" filename=/tmp/ray/session_latest/metrics/prometheus/prometheus.yml totalDuration=2.231583ms db_storage=1.383µs remote_storage=3.457µs web_handler=1.082µs query_engine=1.112µs scrape=1.878334ms scrape_sd=30.126µs notify=1.332µs notify_sd=2.555µs rules=1.703µs tracing=9.718µs\n",
      "ts=2023-03-13T03:05:00.954Z caller=main.go:978 level=info msg=\"Server is ready to receive web requests.\"\n",
      "ts=2023-03-13T03:05:00.954Z caller=manager.go:974 level=info component=\"rule manager\" msg=\"Starting rule manager...\"\n"
     ]
    }
   ],
   "source": [
    "from pathlib import Path\n",
    "\n",
    "scratch_dir = os.getenv('SCRATCH')\n",
    "prometheus_image = \"prom/prometheus:v2.42.0\"\n",
    "prometheus_config = \"/tmp/ray/session_latest/metrics/prometheus/prometheus.yml\"\n",
    "\n",
    "prometheus_db_dir = os.path.join(f\"{scratch_dir}\", \"ray_cluster/prometheus\")\n",
    "Path(prometheus_db_dir).mkdir(parents=True, exist_ok=True)\n",
    "\n",
    "prometheus_process = Popen(\n",
    "    split(\n",
    "        \"shifter \" \\\n",
    "        f\"--image={prometheus_image} \"\\\n",
    "        f\"--volume={prometheus_db_dir}:/prometheus \"\\\n",
    "        \"/bin/prometheus \"\\\n",
    "        f\"--config.file={prometheus_config} \"\\\n",
    "        \"--storage.tsdb.path=/prometheus\"\n",
    "    )\n",
    ")"
   ]
  },
  {
   "cell_type": "markdown",
   "id": "1ea7d149-eb17-4f14-b88f-17abc4634878",
   "metadata": {},
   "source": [
    "### Start Grafana"
   ]
  },
  {
   "cell_type": "code",
   "execution_count": 6,
   "id": "338055fe-430d-4d19-8aba-028613901b2e",
   "metadata": {},
   "outputs": [
    {
     "name": "stdout",
     "output_type": "stream",
     "text": [
      "logger=settings t=2023-03-12T20:05:08.601534072-07:00 level=info msg=\"Starting Grafana\" version=9.4.3 commit=cf0a135595 branch=HEAD compiled=2023-03-02T12:28:42-08:00\n",
      "logger=settings t=2023-03-12T20:05:08.601853768-07:00 level=warn msg=\"\\\"sentry\\\" frontend logging provider is deprecated and will be removed in the next major version. Use \\\"grafana\\\" provider instead.\"\n",
      "logger=settings t=2023-03-12T20:05:08.601866712-07:00 level=info msg=\"Config loaded from\" file=/usr/share/grafana/conf/defaults.ini\n",
      "logger=settings t=2023-03-12T20:05:08.601871581-07:00 level=info msg=\"Config loaded from\" file=/tmp/ray/session_latest/metrics/grafana/grafana.ini\n",
      "logger=settings t=2023-03-12T20:05:08.6018763-07:00 level=info msg=\"Config overridden from command line\" arg=\"default.paths.data=/grafana\"\n",
      "logger=settings t=2023-03-12T20:05:08.601879927-07:00 level=info msg=\"Config overridden from command line\" arg=\"default.paths.logs=/var/log/grafana\"\n",
      "logger=settings t=2023-03-12T20:05:08.601882983-07:00 level=info msg=\"Config overridden from command line\" arg=\"default.paths.plugins=/grafana/plugins\"\n",
      "logger=settings t=2023-03-12T20:05:08.601886138-07:00 level=info msg=\"Config overridden from command line\" arg=\"default.paths.provisioning=/tmp/ray/session_latest/metrics/grafana/provisioning\"\n",
      "logger=settings t=2023-03-12T20:05:08.601889274-07:00 level=info msg=\"Config overridden from command line\" arg=\"default.log.mode=console\"\n",
      "logger=settings t=2023-03-12T20:05:08.60189245-07:00 level=info msg=\"Config overridden from Environment variable\" var=\"GF_PATHS_DATA=/grafana\"\n",
      "logger=settings t=2023-03-12T20:05:08.601895947-07:00 level=info msg=\"Config overridden from Environment variable\" var=\"GF_PATHS_LOGS=/var/log/grafana\"\n",
      "logger=settings t=2023-03-12T20:05:08.601899443-07:00 level=info msg=\"Config overridden from Environment variable\" var=\"GF_PATHS_PLUGINS=/grafana/plugins\"\n",
      "logger=settings t=2023-03-12T20:05:08.601902689-07:00 level=info msg=\"Config overridden from Environment variable\" var=\"GF_PATHS_PROVISIONING=/tmp/ray/session_latest/metrics/grafana/provisioning\"\n",
      "logger=settings t=2023-03-12T20:05:08.601906106-07:00 level=info msg=\"Config overridden from Environment variable\" var=\"GF_SERVER_ROOT_URL=https://jupyter.nersc.gov/user/asnaylor/perlmutter-shared-node-cpu/proxy/3000/\"\n",
      "logger=settings t=2023-03-12T20:05:08.601909632-07:00 level=info msg=\"Path Home\" path=/usr/share/grafana\n",
      "logger=settings t=2023-03-12T20:05:08.601913089-07:00 level=info msg=\"Path Data\" path=/grafana\n",
      "logger=settings t=2023-03-12T20:05:08.601916194-07:00 level=info msg=\"Path Logs\" path=/var/log/grafana\n",
      "logger=settings t=2023-03-12T20:05:08.601919471-07:00 level=info msg=\"Path Plugins\" path=/grafana/plugins\n",
      "logger=settings t=2023-03-12T20:05:08.601922747-07:00 level=info msg=\"Path Provisioning\" path=/tmp/ray/session_latest/metrics/grafana/provisioning\n",
      "logger=settings t=2023-03-12T20:05:08.601926263-07:00 level=info msg=\"App mode production\"\n",
      "logger=sqlstore t=2023-03-12T20:05:08.602012264-07:00 level=info msg=\"Connecting to DB\" dbtype=sqlite3\n",
      "logger=migrator t=2023-03-12T20:05:08.62308946-07:00 level=info msg=\"Starting DB migrations\"\n",
      "logger=migrator t=2023-03-12T20:05:08.628652006-07:00 level=info msg=\"migrations completed\" performed=0 skipped=481 duration=566.226µs\n",
      "logger=plugin.finder t=2023-03-12T20:05:08.679494616-07:00 level=warn msg=\"Skipping finding plugins as directory does not exist\" path=/usr/share/grafana/plugins-bundled\n",
      "logger=secrets t=2023-03-12T20:05:08.679903428-07:00 level=info msg=\"Envelope encryption state\" enabled=true currentprovider=secretKey.v1\n",
      "logger=query_data t=2023-03-12T20:05:08.687624291-07:00 level=info msg=\"Query Service initialization\"\n",
      "logger=live.push_http t=2023-03-12T20:05:08.699966123-07:00 level=info msg=\"Live Push Gateway initialization\"\n",
      "logger=infra.usagestats.collector t=2023-03-12T20:05:09.588921875-07:00 level=info msg=\"registering usage stat providers\" usageStatsProvidersLen=2\n",
      "logger=provisioning.plugins t=2023-03-12T20:05:09.667290631-07:00 level=error msg=\"Failed to read plugin provisioning files from directory\" path=/tmp/ray/session_latest/metrics/grafana/provisioning/plugins error=\"open /tmp/ray/session_latest/metrics/grafana/provisioning/plugins: no such file or directory\"\n",
      "logger=provisioning.notifiers t=2023-03-12T20:05:09.667337438-07:00 level=error msg=\"Can't read alert notification provisioning files from directory\" path=/tmp/ray/session_latest/metrics/grafana/provisioning/notifiers error=\"open /tmp/ray/session_latest/metrics/grafana/provisioning/notifiers: no such file or directory\"\n",
      "logger=provisioning.alerting t=2023-03-12T20:05:09.667356925-07:00 level=error msg=\"can't read alerting provisioning files from directory\" path=/tmp/ray/session_latest/metrics/grafana/provisioning/alerting error=\"open /tmp/ray/session_latest/metrics/grafana/provisioning/alerting: no such file or directory\"\n",
      "logger=provisioning.alerting t=2023-03-12T20:05:09.667362405-07:00 level=info msg=\"starting to provision alerting\"\n",
      "logger=provisioning.alerting t=2023-03-12T20:05:09.667370209-07:00 level=info msg=\"finished to provision alerting\"\n",
      "logger=grafanaStorageLogger t=2023-03-12T20:05:09.667559813-07:00 level=info msg=\"storage starting\"\n",
      "logger=ngalert.state.manager t=2023-03-12T20:05:09.667644892-07:00 level=info msg=\"Warming state cache for startup\"\n",
      "logger=http.server t=2023-03-12T20:05:09.674166096-07:00 level=info msg=\"HTTP Server Listen\" address=[::]:3000 protocol=http subUrl=/user/asnaylor/perlmutter-shared-node-cpu/proxy/3000 socket=\n",
      "logger=ngalert.state.manager t=2023-03-12T20:05:09.678489571-07:00 level=info msg=\"State cache has been initialized\" states=0 duration=10.843196ms\n",
      "logger=ngalert.multiorg.alertmanager t=2023-03-12T20:05:09.67855371-07:00 level=info msg=\"starting MultiOrg Alertmanager\"\n",
      "logger=ticker t=2023-03-12T20:05:09.680235357-07:00 level=info msg=starting first_tick=2023-03-12T20:05:10-07:00\n"
     ]
    }
   ],
   "source": [
    "grafana_image = \"grafana/grafana-oss:9.4.3\"\n",
    "grafana_config = \"/tmp/ray/session_latest/metrics/grafana/grafana.ini\"\n",
    "grafana_provisioning = \"/tmp/ray/session_latest/metrics/grafana/provisioning\"\n",
    "\n",
    "grafana_db_dir = os.path.join(f\"{scratch_dir}\", \"ray_cluster/grafana\")\n",
    "Path(grafana_db_dir).mkdir(parents=True, exist_ok=True)\n",
    "\n",
    "\n",
    "user_jupyter = os.getenv('JUPYTERHUB_SERVICE_PREFIX')\n",
    "jupyterhub = 'https://jupyter.nersc.gov'\n",
    "grafana_port = '3000'\n",
    "grafana_root_url = f\"{jupyterhub}{user_jupyter}proxy/{grafana_port}/\"\n",
    "\n",
    "grafana_process = Popen(\n",
    "    split(\n",
    "        \"shifter \" \\\n",
    "        f\"--image={grafana_image} \"\\\n",
    "        f\"--volume={grafana_db_dir}:/grafana \"\\\n",
    "        \"--env GF_PATHS_DATA=/grafana \"\\\n",
    "        \"--env GF_PATHS_PLUGINS=/grafana/plugins \"\\\n",
    "        f\"--env GF_SERVER_ROOT_URL={grafana_root_url} \"\\\n",
    "        f\"--env GF_PATHS_CONFIG={grafana_config} \"\\\n",
    "        f\"--env GF_PATHS_PROVISIONING={grafana_provisioning} \"\n",
    "        \"--entrypoint\"\n",
    "    )\n",
    ")"
   ]
  },
  {
   "cell_type": "markdown",
   "id": "239e429a-0af4-45a0-ad7e-bb7e2d9c72c9",
   "metadata": {},
   "source": [
    "### Access ray dashboard"
   ]
  },
  {
   "cell_type": "code",
   "execution_count": 7,
   "id": "da9e013a-93ea-403f-847f-5fabdaadf198",
   "metadata": {},
   "outputs": [
    {
     "data": {
      "text/plain": [
       "'https://jupyter.nersc.gov/user/asnaylor/perlmutter-shared-node-cpu/proxy/localhost:8265/#/node'"
      ]
     },
     "execution_count": 7,
     "metadata": {},
     "output_type": "execute_result"
    }
   ],
   "source": [
    "ray_dashboard_port = '8265'\n",
    "f'{jupyterhub}{user_jupyter}proxy/localhost:{ray_dashboard_port}/#/node'"
   ]
  },
  {
   "cell_type": "markdown",
   "id": "6a9bd7e4-b951-4ff4-b43c-3f67631d0f30",
   "metadata": {},
   "source": [
    "### Access grafana dashboard\n",
    "\n",
    "```\n",
    "username: admin\n",
    "password: admin\n",
    "```"
   ]
  },
  {
   "cell_type": "code",
   "execution_count": 8,
   "id": "4f9f70e1-138d-4179-85dd-70dcb73e6b99",
   "metadata": {},
   "outputs": [
    {
     "data": {
      "text/plain": [
       "'https://jupyter.nersc.gov/user/asnaylor/perlmutter-shared-node-cpu/proxy/3000/login'"
      ]
     },
     "execution_count": 8,
     "metadata": {},
     "output_type": "execute_result"
    },
    {
     "name": "stdout",
     "output_type": "stream",
     "text": [
      "logger=context userId=1 orgId=1 uname=admin t=2023-03-12T20:05:17.97512492-07:00 level=info msg=\"Request Completed\" method=GET path=/api/live/ws status=-1 remote_addr=192.184.142.228 time_ms=32 duration=32.449119ms size=0 referer= handler=/api/live/ws\n",
      "logger=context userId=1 orgId=1 uname=admin t=2023-03-12T20:05:18.015486729-07:00 level=info msg=\"Request Completed\" method=GET path=/api/live/ws status=-1 remote_addr=192.184.142.228 time_ms=34 duration=34.180288ms size=0 referer= handler=/api/live/ws\n",
      "logger=live t=2023-03-12T20:05:18.156461678-07:00 level=info msg=\"Initialized channel handler\" channel=grafana/dashboard/uid/rayDefaultDashboard address=grafana/dashboard/uid/rayDefaultDashboard\n",
      "logger=context userId=1 orgId=1 uname=admin t=2023-03-12T20:05:23.917985382-07:00 level=info msg=\"Request Completed\" method=GET path=/api/live/ws status=-1 remote_addr=192.184.142.228 time_ms=33 duration=33.974104ms size=0 referer= handler=/api/live/ws\n",
      "logger=context userId=1 orgId=1 uname=admin t=2023-03-12T20:05:24.065604686-07:00 level=info msg=\"Request Completed\" method=GET path=/api/live/ws status=-1 remote_addr=192.184.142.228 time_ms=32 duration=32.971063ms size=0 referer= handler=/api/live/ws\n",
      "logger=context userId=1 orgId=1 uname=admin t=2023-03-12T20:05:34.538975459-07:00 level=info msg=\"Request Completed\" method=GET path=/api/live/ws status=-1 remote_addr=192.184.142.228 time_ms=33 duration=33.701946ms size=0 referer= handler=/api/live/ws\n",
      "logger=context userId=1 orgId=1 uname=admin t=2023-03-12T20:05:36.260759947-07:00 level=info msg=\"Request Completed\" method=GET path=/api/live/ws status=-1 remote_addr=192.184.142.228 time_ms=32 duration=32.016803ms size=0 referer= handler=/api/live/ws\n",
      "logger=context userId=1 orgId=1 uname=admin t=2023-03-12T20:05:36.297663755-07:00 level=info msg=\"Request Completed\" method=GET path=/api/live/ws status=-1 remote_addr=192.184.142.228 time_ms=33 duration=33.903071ms size=0 referer= handler=/api/live/ws\n",
      "logger=context userId=1 orgId=1 uname=admin t=2023-03-12T20:05:36.341686354-07:00 level=info msg=\"Request Completed\" method=GET path=/api/live/ws status=-1 remote_addr=192.184.142.228 time_ms=38 duration=38.017907ms size=0 referer= handler=/api/live/ws\n",
      "logger=context userId=1 orgId=1 uname=admin t=2023-03-12T20:05:36.375878023-07:00 level=info msg=\"Request Completed\" method=GET path=/api/live/ws status=-1 remote_addr=192.184.142.228 time_ms=32 duration=32.489674ms size=0 referer= handler=/api/live/ws\n",
      "logger=context userId=1 orgId=1 uname=admin t=2023-03-12T20:05:36.411861826-07:00 level=info msg=\"Request Completed\" method=GET path=/api/live/ws status=-1 remote_addr=192.184.142.228 time_ms=33 duration=33.266904ms size=0 referer= handler=/api/live/ws\n",
      "logger=context userId=1 orgId=1 uname=admin t=2023-03-12T20:05:36.446396516-07:00 level=info msg=\"Request Completed\" method=GET path=/api/live/ws status=-1 remote_addr=192.184.142.228 time_ms=32 duration=32.291465ms size=0 referer= handler=/api/live/ws\n",
      "logger=context userId=1 orgId=1 uname=admin t=2023-03-12T20:05:36.482591723-07:00 level=info msg=\"Request Completed\" method=GET path=/api/live/ws status=-1 remote_addr=192.184.142.228 time_ms=33 duration=33.299806ms size=0 referer= handler=/api/live/ws\n",
      "logger=context userId=1 orgId=1 uname=admin t=2023-03-12T20:05:36.519783168-07:00 level=info msg=\"Request Completed\" method=GET path=/api/live/ws status=-1 remote_addr=192.184.142.228 time_ms=33 duration=33.426072ms size=0 referer= handler=/api/live/ws\n",
      "logger=context userId=1 orgId=1 uname=admin t=2023-03-12T20:05:36.761187404-07:00 level=info msg=\"Request Completed\" method=GET path=/api/live/ws status=-1 remote_addr=192.184.142.228 time_ms=34 duration=34.101982ms size=0 referer= handler=/api/live/ws\n",
      "logger=context userId=1 orgId=1 uname=admin t=2023-03-12T20:05:36.795006589-07:00 level=info msg=\"Request Completed\" method=GET path=/api/live/ws status=-1 remote_addr=192.184.142.228 time_ms=33 duration=33.292382ms size=0 referer= handler=/api/live/ws\n",
      "logger=context userId=1 orgId=1 uname=admin t=2023-03-12T20:05:36.832627505-07:00 level=info msg=\"Request Completed\" method=GET path=/api/live/ws status=-1 remote_addr=192.184.142.228 time_ms=34 duration=34.175129ms size=0 referer= handler=/api/live/ws\n",
      "logger=context userId=1 orgId=1 uname=admin t=2023-03-12T20:05:36.871159121-07:00 level=info msg=\"Request Completed\" method=GET path=/api/live/ws status=-1 remote_addr=192.184.142.228 time_ms=33 duration=33.119049ms size=0 referer= handler=/api/live/ws\n",
      "logger=context userId=1 orgId=1 uname=admin t=2023-03-12T20:05:36.908127901-07:00 level=info msg=\"Request Completed\" method=GET path=/api/live/ws status=-1 remote_addr=192.184.142.228 time_ms=32 duration=32.018816ms size=0 referer= handler=/api/live/ws\n",
      "logger=context userId=1 orgId=1 uname=admin t=2023-03-12T20:05:37.101586711-07:00 level=info msg=\"Request Completed\" method=GET path=/api/live/ws status=-1 remote_addr=192.184.142.228 time_ms=52 duration=52.998802ms size=0 referer= handler=/api/live/ws\n",
      "logger=context userId=1 orgId=1 uname=admin t=2023-03-12T20:05:37.120464876-07:00 level=info msg=\"Request Completed\" method=GET path=/api/live/ws status=-1 remote_addr=192.184.142.228 time_ms=33 duration=33.062364ms size=0 referer= handler=/api/live/ws\n",
      "logger=context userId=1 orgId=1 uname=admin t=2023-03-12T20:05:37.167379168-07:00 level=info msg=\"Request Completed\" method=GET path=/api/live/ws status=-1 remote_addr=192.184.142.228 time_ms=37 duration=37.926496ms size=0 referer= handler=/api/live/ws\n",
      "logger=context userId=1 orgId=1 uname=admin t=2023-03-12T20:05:37.403134726-07:00 level=info msg=\"Request Completed\" method=GET path=/api/live/ws status=-1 remote_addr=192.184.142.228 time_ms=32 duration=32.424774ms size=0 referer= handler=/api/live/ws\n"
     ]
    }
   ],
   "source": [
    "f'{jupyterhub}{user_jupyter}proxy/{grafana_port}/login'"
   ]
  },
  {
   "cell_type": "markdown",
   "id": "3d91ba07-fbc4-44ad-9701-b6f219946ef9",
   "metadata": {},
   "source": [
    "### Close down everything"
   ]
  },
  {
   "cell_type": "code",
   "execution_count": 9,
   "id": "5f66d96d-c037-4072-b399-78e870dacdc9",
   "metadata": {},
   "outputs": [],
   "source": [
    "ray_head_process.kill()\n",
    "prometheus_process.kill()\n",
    "grafana_process.kill()"
   ]
  },
  {
   "cell_type": "code",
   "execution_count": null,
   "id": "58c4166e-5226-4cd4-9189-fbd4ff28a861",
   "metadata": {},
   "outputs": [],
   "source": []
  }
 ],
 "metadata": {
  "kernelspec": {
   "display_name": "NERSC Python",
   "language": "python",
   "name": "python3"
  },
  "language_info": {
   "codemirror_mode": {
    "name": "ipython",
    "version": 3
   },
   "file_extension": ".py",
   "mimetype": "text/x-python",
   "name": "python",
   "nbconvert_exporter": "python",
   "pygments_lexer": "ipython3",
   "version": "3.9.7"
  }
 },
 "nbformat": 4,
 "nbformat_minor": 5
}
